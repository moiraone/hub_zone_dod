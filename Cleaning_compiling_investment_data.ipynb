{
  "nbformat": 4,
  "nbformat_minor": 0,
  "metadata": {
    "colab": {
      "name": "Cleaning_compiling_investment_data.ipynb",
      "provenance": [],
      "mount_file_id": "166j7U2lg4yhkGz4Y2MKwtN20KIWanDkN",
      "authorship_tag": "ABX9TyP1gzMmYd3h+s/34rrl+oLN",
      "include_colab_link": true
    },
    "kernelspec": {
      "name": "python3",
      "display_name": "Python 3"
    },
    "language_info": {
      "name": "python"
    }
  },
  "cells": [
    {
      "cell_type": "markdown",
      "metadata": {
        "id": "view-in-github",
        "colab_type": "text"
      },
      "source": [
        "<a href=\"https://colab.research.google.com/github/moiraone/hub_zone_dod/blob/main/Cleaning_compiling_investment_data.ipynb\" target=\"_parent\"><img src=\"https://colab.research.google.com/assets/colab-badge.svg\" alt=\"Open In Colab\"/></a>"
      ]
    },
    {
      "cell_type": "code",
      "metadata": {
        "id": "BfJTjyc3Jj3h"
      },
      "source": [
        "%%capture\n",
        "pip install geopandas"
      ],
      "execution_count": null,
      "outputs": []
    },
    {
      "cell_type": "markdown",
      "metadata": {
        "id": "m3kEgtj8NEgK"
      },
      "source": [
        "**Start by reading in sample file and drafting a program to compile and clean data**"
      ]
    },
    {
      "cell_type": "code",
      "metadata": {
        "id": "c63gNUcCPCyU"
      },
      "source": [
        "import pandas as pd\n",
        "import numpy as np\n",
        "import matplotlib.pyplot as plt\n",
        "import re\n",
        "import geopandas as gpd"
      ],
      "execution_count": null,
      "outputs": []
    },
    {
      "cell_type": "markdown",
      "metadata": {
        "id": "Tzj4NQt6gFGB"
      },
      "source": [
        "**California sample records 2000-2020**\n"
      ]
    },
    {
      "cell_type": "code",
      "metadata": {
        "id": "YkLYp8KhpjvJ"
      },
      "source": [
        "ca = pd.read_csv(r\"/content/drive/MyDrive/Master_defense_investment_data/California_contracts.csv\")"
      ],
      "execution_count": null,
      "outputs": []
    },
    {
      "cell_type": "code",
      "metadata": {
        "id": "siUon6A9J-BV"
      },
      "source": [
        "ca_zip = gpd.read_file(r'/content/drive/MyDrive/Spatiotemp/final project/ca shapefiles/ca_zip.shp')"
      ],
      "execution_count": null,
      "outputs": []
    },
    {
      "cell_type": "code",
      "metadata": {
        "colab": {
          "base_uri": "https://localhost:8080/"
        },
        "id": "eI0quDGK9HhQ",
        "outputId": "0eeefd4f-2981-4734-8046-befd28ed1966"
      },
      "source": [
        "ca['Date Signed'].astype(str)"
      ],
      "execution_count": null,
      "outputs": [
        {
          "output_type": "execute_result",
          "data": {
            "text/plain": [
              "0         Feb 5, 2001\n",
              "1         Mar 7, 2002\n",
              "2        Jun 30, 2000\n",
              "3         Apr 3, 2002\n",
              "4        Jun 25, 2002\n",
              "             ...     \n",
              "29995     Apr 7, 2020\n",
              "29996    Sep 22, 2020\n",
              "29997    Mar 15, 2021\n",
              "29998     Jun 4, 2015\n",
              "29999    Jul 11, 2016\n",
              "Name: Date Signed, Length: 30000, dtype: object"
            ]
          },
          "metadata": {},
          "execution_count": 263
        }
      ]
    },
    {
      "cell_type": "code",
      "metadata": {
        "id": "ucwvf9xZ29mD"
      },
      "source": [
        "year = []\n",
        "for i in ca['Date Signed']:\n",
        "  year.append(i[7:])\n",
        "\n",
        "for i in year:\n",
        "  str(i)\n",
        "  i.strip()"
      ],
      "execution_count": null,
      "outputs": []
    },
    {
      "cell_type": "code",
      "metadata": {
        "id": "4e7j_XODC_hj"
      },
      "source": [
        "%%capture\n",
        "year"
      ],
      "execution_count": null,
      "outputs": []
    },
    {
      "cell_type": "code",
      "metadata": {
        "id": "-KrONSEcCof5"
      },
      "source": [
        "ca['Year'] = year"
      ],
      "execution_count": null,
      "outputs": []
    },
    {
      "cell_type": "code",
      "metadata": {
        "id": "D9sjbYL9mLcx"
      },
      "source": [
        "ca['Year'] = ca['Year'].str.strip()"
      ],
      "execution_count": null,
      "outputs": []
    },
    {
      "cell_type": "code",
      "metadata": {
        "id": "9D1pZTz5Fw1k"
      },
      "source": [
        "ca['ZIP'] = ca['Entity ZIP Code'].str[:5]"
      ],
      "execution_count": null,
      "outputs": []
    },
    {
      "cell_type": "markdown",
      "metadata": {
        "id": "kzcTLaj9KJgh"
      },
      "source": [
        "Join investment data to zip shapefile."
      ]
    },
    {
      "cell_type": "code",
      "metadata": {
        "id": "BZ-ivY37KJCS"
      },
      "source": [
        "ca_zip['ZIP'] = ca_zip['zcta']"
      ],
      "execution_count": null,
      "outputs": []
    },
    {
      "cell_type": "code",
      "metadata": {
        "id": "GLmGD_HxMJQe"
      },
      "source": [
        "ca_spatial = ca_zip.merge(ca, on='ZIP')"
      ],
      "execution_count": null,
      "outputs": []
    },
    {
      "cell_type": "code",
      "metadata": {
        "id": "2HwRG9B7Msaz"
      },
      "source": [
        "#list(ca_spatial)\n",
        "#ca_spatial.drop(['age_under5','age_5to9','age_10to14','age_15to19','age_20to24','age_25to29','age_30to34','age_35to39','age_40to44','age_45to49','age_50to54','age_55to59','age_60to64','age_65to69','age_70to74','age_75to79','age_80to84','age_85_ove','age16_over','age18_over','age21_over','age62_over','age65_over','male','female'], axis=0, inplace=False)"
      ],
      "execution_count": null,
      "outputs": []
    },
    {
      "cell_type": "markdown",
      "metadata": {
        "id": "ZC-AQG8fcImm"
      },
      "source": [
        "Condense records by summing investment per zip."
      ]
    },
    {
      "cell_type": "code",
      "metadata": {
        "id": "ATlbKFXTg8ac"
      },
      "source": [
        "ca_spatial['Action Obligation ($)'] = ca_spatial['Action Obligation ($)'].str.replace(',', '').str.replace('$', '')"
      ],
      "execution_count": null,
      "outputs": []
    },
    {
      "cell_type": "code",
      "metadata": {
        "id": "Em5Kd3dde1wO"
      },
      "source": [
        "ca_spatial['Action Obligation ($)']= ca_spatial['Action Obligation ($)'].astype(float)"
      ],
      "execution_count": null,
      "outputs": []
    },
    {
      "cell_type": "code",
      "metadata": {
        "colab": {
          "base_uri": "https://localhost:8080/"
        },
        "id": "HXSc4WlAeYAQ",
        "outputId": "d619ce99-5c99-4c8e-bbda-aaec99d9c5f5"
      },
      "source": [
        "ca_spatial['Action Obligation ($)'].astype(int)"
      ],
      "execution_count": null,
      "outputs": [
        {
          "output_type": "execute_result",
          "data": {
            "text/plain": [
              "0          3769\n",
              "1         76000\n",
              "2        157000\n",
              "3             0\n",
              "4             0\n",
              "          ...  \n",
              "29787      2750\n",
              "29788     20000\n",
              "29789      4260\n",
              "29790     25785\n",
              "29791     71046\n",
              "Name: Action Obligation ($), Length: 29792, dtype: int64"
            ]
          },
          "metadata": {},
          "execution_count": 293
        }
      ]
    },
    {
      "cell_type": "code",
      "metadata": {
        "id": "GpoJj7nxcTC9"
      },
      "source": [
        "ca_sum = ca_spatial.groupby(['Year', 'ZIP'],as_index=False)['Action Obligation ($)'].sum()"
      ],
      "execution_count": null,
      "outputs": []
    },
    {
      "cell_type": "code",
      "metadata": {
        "colab": {
          "base_uri": "https://localhost:8080/",
          "height": 423
        },
        "id": "GPZg---inhwx",
        "outputId": "99bac9be-de70-4a4f-b298-daf8e695ce73"
      },
      "source": [
        "pd.DataFrame(ca_sum)"
      ],
      "execution_count": null,
      "outputs": [
        {
          "output_type": "execute_result",
          "data": {
            "text/html": [
              "<div>\n",
              "<style scoped>\n",
              "    .dataframe tbody tr th:only-of-type {\n",
              "        vertical-align: middle;\n",
              "    }\n",
              "\n",
              "    .dataframe tbody tr th {\n",
              "        vertical-align: top;\n",
              "    }\n",
              "\n",
              "    .dataframe thead th {\n",
              "        text-align: right;\n",
              "    }\n",
              "</style>\n",
              "<table border=\"1\" class=\"dataframe\">\n",
              "  <thead>\n",
              "    <tr style=\"text-align: right;\">\n",
              "      <th></th>\n",
              "      <th>Year</th>\n",
              "      <th>ZIP</th>\n",
              "      <th>Action Obligation ($)</th>\n",
              "    </tr>\n",
              "  </thead>\n",
              "  <tbody>\n",
              "    <tr>\n",
              "      <th>0</th>\n",
              "      <td>1980</td>\n",
              "      <td>92122</td>\n",
              "      <td>138000.00</td>\n",
              "    </tr>\n",
              "    <tr>\n",
              "      <th>1</th>\n",
              "      <td>1981</td>\n",
              "      <td>92122</td>\n",
              "      <td>1420000.00</td>\n",
              "    </tr>\n",
              "    <tr>\n",
              "      <th>2</th>\n",
              "      <td>1982</td>\n",
              "      <td>92122</td>\n",
              "      <td>1324000.00</td>\n",
              "    </tr>\n",
              "    <tr>\n",
              "      <th>3</th>\n",
              "      <td>1983</td>\n",
              "      <td>92122</td>\n",
              "      <td>2282000.00</td>\n",
              "    </tr>\n",
              "    <tr>\n",
              "      <th>4</th>\n",
              "      <td>1983</td>\n",
              "      <td>92704</td>\n",
              "      <td>1799000.00</td>\n",
              "    </tr>\n",
              "    <tr>\n",
              "      <th>...</th>\n",
              "      <td>...</td>\n",
              "      <td>...</td>\n",
              "      <td>...</td>\n",
              "    </tr>\n",
              "    <tr>\n",
              "      <th>874</th>\n",
              "      <td>2021</td>\n",
              "      <td>94043</td>\n",
              "      <td>325491.95</td>\n",
              "    </tr>\n",
              "    <tr>\n",
              "      <th>875</th>\n",
              "      <td>2021</td>\n",
              "      <td>94520</td>\n",
              "      <td>0.00</td>\n",
              "    </tr>\n",
              "    <tr>\n",
              "      <th>876</th>\n",
              "      <td>2021</td>\n",
              "      <td>95642</td>\n",
              "      <td>397314.75</td>\n",
              "    </tr>\n",
              "    <tr>\n",
              "      <th>877</th>\n",
              "      <td>2021</td>\n",
              "      <td>95742</td>\n",
              "      <td>6285539.20</td>\n",
              "    </tr>\n",
              "    <tr>\n",
              "      <th>878</th>\n",
              "      <td>2021</td>\n",
              "      <td>95838</td>\n",
              "      <td>29177816.94</td>\n",
              "    </tr>\n",
              "  </tbody>\n",
              "</table>\n",
              "<p>879 rows × 3 columns</p>\n",
              "</div>"
            ],
            "text/plain": [
              "     Year    ZIP  Action Obligation ($)\n",
              "0    1980  92122              138000.00\n",
              "1    1981  92122             1420000.00\n",
              "2    1982  92122             1324000.00\n",
              "3    1983  92122             2282000.00\n",
              "4    1983  92704             1799000.00\n",
              "..    ...    ...                    ...\n",
              "874  2021  94043              325491.95\n",
              "875  2021  94520                   0.00\n",
              "876  2021  95642              397314.75\n",
              "877  2021  95742             6285539.20\n",
              "878  2021  95838            29177816.94\n",
              "\n",
              "[879 rows x 3 columns]"
            ]
          },
          "metadata": {},
          "execution_count": 305
        }
      ]
    },
    {
      "cell_type": "code",
      "metadata": {
        "id": "IGK51T9u4eR1"
      },
      "source": [
        "ca_spatial = ca_zip.merge(ca_sum, on='ZIP')"
      ],
      "execution_count": null,
      "outputs": []
    },
    {
      "cell_type": "code",
      "metadata": {
        "colab": {
          "base_uri": "https://localhost:8080/"
        },
        "id": "oTjRc7mh4pVS",
        "outputId": "a4f489f9-0ed9-46ea-f20a-3858a30a5f07"
      },
      "source": [
        "ca_spatial.shape"
      ],
      "execution_count": null,
      "outputs": [
        {
          "output_type": "execute_result",
          "data": {
            "text/plain": [
              "(879, 89)"
            ]
          },
          "metadata": {},
          "execution_count": 308
        }
      ]
    }
  ]
}