{
  "nbformat": 4,
  "nbformat_minor": 0,
  "metadata": {
    "colab": {
      "name": "Cleaning_compiling_investment_data.ipynb",
      "provenance": [],
      "mount_file_id": "166j7U2lg4yhkGz4Y2MKwtN20KIWanDkN",
      "authorship_tag": "ABX9TyOKQN0G/n7dH568r7AwCrVe"
    },
    "kernelspec": {
      "name": "python3",
      "display_name": "Python 3"
    },
    "language_info": {
      "name": "python"
    }
  },
  "cells": [
    {
      "cell_type": "code",
      "metadata": {
        "id": "BfJTjyc3Jj3h"
      },
      "source": [
        "%%capture\n",
        "pip install geopandas"
      ],
      "execution_count": 1,
      "outputs": []
    },
    {
      "cell_type": "code",
      "metadata": {
        "id": "o1Yq99j_pSDH"
      },
      "source": [
        "%%capture\n",
        "pip install libpysal"
      ],
      "execution_count": 2,
      "outputs": []
    },
    {
      "cell_type": "code",
      "metadata": {
        "id": "woz0y43UpYIK"
      },
      "source": [
        "%%capture\n",
        "pip install pysal"
      ],
      "execution_count": 3,
      "outputs": []
    },
    {
      "cell_type": "code",
      "metadata": {
        "id": "BbjDzePOpyiG"
      },
      "source": [
        "%%capture\n",
        "pip install giddy"
      ],
      "execution_count": 4,
      "outputs": []
    },
    {
      "cell_type": "code",
      "metadata": {
        "id": "WFF8DffZp5GM"
      },
      "source": [
        "%%capture\n",
        "pip install esda"
      ],
      "execution_count": 5,
      "outputs": []
    },
    {
      "cell_type": "markdown",
      "metadata": {
        "id": "m3kEgtj8NEgK"
      },
      "source": [
        "**Start by reading in sample file and drafting a program to compile and clean data**"
      ]
    },
    {
      "cell_type": "code",
      "metadata": {
        "id": "c63gNUcCPCyU",
        "colab": {
          "base_uri": "https://localhost:8080/"
        },
        "outputId": "cd09aa1a-0d2c-41a2-bf76-ba0ea5ba5d92"
      },
      "source": [
        "import pandas as pd\n",
        "import numpy as np\n",
        "import matplotlib.pyplot as plt\n",
        "import re\n",
        "import geopandas as gpd\n",
        "import pysal\n",
        "import libpysal\n",
        "import pysal.explore as explore\n",
        "import seaborn as sns\n",
        "from libpysal.weights import Queen, Rook, KNN\n",
        "from libpysal.weights import lat2W\n",
        "import giddy\n",
        "import esda"
      ],
      "execution_count": 6,
      "outputs": [
        {
          "output_type": "stream",
          "name": "stderr",
          "text": [
            "/usr/local/lib/python3.7/dist-packages/geopandas/_compat.py:110: UserWarning: The Shapely GEOS version (3.8.0-CAPI-1.13.1 ) is incompatible with the GEOS version PyGEOS was compiled with (3.9.1-CAPI-1.14.2). Conversions between both will be slow.\n",
            "  shapely_geos_version, geos_capi_version_string\n",
            "/usr/local/lib/python3.7/dist-packages/numba/np/ufunc/parallel.py:363: NumbaWarning: The TBB threading layer requires TBB version 2019.5 or later i.e., TBB_INTERFACE_VERSION >= 11005. Found TBB_INTERFACE_VERSION = 9107. The TBB threading layer is disabled.\n",
            "  warnings.warn(problem)\n",
            "/usr/local/lib/python3.7/dist-packages/spaghetti/network.py:36: FutureWarning: The next major release of pysal/spaghetti (2.0.0) will drop support for all ``libpysal.cg`` geometries. This change is a first step in refactoring ``spaghetti`` that is expected to result in dramatically reduced runtimes for network instantiation and operations. Users currently requiring network and point pattern input as ``libpysal.cg`` geometries should prepare for this simply by converting to ``shapely`` geometries.\n",
            "  warnings.warn(f\"{dep_msg}\", FutureWarning)\n"
          ]
        }
      ]
    },
    {
      "cell_type": "markdown",
      "metadata": {
        "id": "Tzj4NQt6gFGB"
      },
      "source": [
        "**California sample records 2000-2020**\n"
      ]
    },
    {
      "cell_type": "code",
      "metadata": {
        "id": "YkLYp8KhpjvJ"
      },
      "source": [
        "ca = pd.read_csv(r\"/content/drive/MyDrive/Master_defense_investment_data/California_contracts.csv\")"
      ],
      "execution_count": 7,
      "outputs": []
    },
    {
      "cell_type": "code",
      "metadata": {
        "id": "siUon6A9J-BV"
      },
      "source": [
        "ca_zip = gpd.read_file(r'/content/drive/MyDrive/Spatiotemp/final project/ca shapefiles/ca_zip.shp')"
      ],
      "execution_count": 8,
      "outputs": []
    },
    {
      "cell_type": "code",
      "metadata": {
        "colab": {
          "base_uri": "https://localhost:8080/"
        },
        "id": "eI0quDGK9HhQ",
        "outputId": "3ae40824-2160-4a92-a456-82fc44aae379"
      },
      "source": [
        "ca['Date Signed'].astype(str)"
      ],
      "execution_count": 9,
      "outputs": [
        {
          "output_type": "execute_result",
          "data": {
            "text/plain": [
              "0         Feb 5, 2001\n",
              "1         Mar 7, 2002\n",
              "2        Jun 30, 2000\n",
              "3         Apr 3, 2002\n",
              "4        Jun 25, 2002\n",
              "             ...     \n",
              "29995     Apr 7, 2020\n",
              "29996    Sep 22, 2020\n",
              "29997    Mar 15, 2021\n",
              "29998     Jun 4, 2015\n",
              "29999    Jul 11, 2016\n",
              "Name: Date Signed, Length: 30000, dtype: object"
            ]
          },
          "metadata": {},
          "execution_count": 9
        }
      ]
    },
    {
      "cell_type": "code",
      "metadata": {
        "id": "ucwvf9xZ29mD"
      },
      "source": [
        "year = []\n",
        "for i in ca['Date Signed']:\n",
        "  year.append(i[7:])\n",
        "\n",
        "for i in year:\n",
        "  str(i)\n",
        "  i.strip()"
      ],
      "execution_count": 10,
      "outputs": []
    },
    {
      "cell_type": "code",
      "metadata": {
        "id": "4e7j_XODC_hj"
      },
      "source": [
        "%%capture\n",
        "year"
      ],
      "execution_count": 11,
      "outputs": []
    },
    {
      "cell_type": "code",
      "metadata": {
        "id": "-KrONSEcCof5"
      },
      "source": [
        "ca['Year'] = year"
      ],
      "execution_count": 12,
      "outputs": []
    },
    {
      "cell_type": "code",
      "metadata": {
        "id": "D9sjbYL9mLcx"
      },
      "source": [
        "ca['Year'] = ca['Year'].str.strip()"
      ],
      "execution_count": 13,
      "outputs": []
    },
    {
      "cell_type": "code",
      "metadata": {
        "id": "9D1pZTz5Fw1k"
      },
      "source": [
        "ca['ZIP'] = ca['Entity ZIP Code'].str[:5]"
      ],
      "execution_count": 14,
      "outputs": []
    },
    {
      "cell_type": "markdown",
      "metadata": {
        "id": "kzcTLaj9KJgh"
      },
      "source": [
        "Join investment data to zip shapefile."
      ]
    },
    {
      "cell_type": "code",
      "metadata": {
        "id": "BZ-ivY37KJCS"
      },
      "source": [
        "ca_zip['ZIP'] = ca_zip['zcta']"
      ],
      "execution_count": 15,
      "outputs": []
    },
    {
      "cell_type": "code",
      "metadata": {
        "id": "GLmGD_HxMJQe"
      },
      "source": [
        "ca_spatial = ca_zip.merge(ca, on='ZIP')"
      ],
      "execution_count": 16,
      "outputs": []
    },
    {
      "cell_type": "code",
      "metadata": {
        "id": "2HwRG9B7Msaz"
      },
      "source": [
        "#list(ca_spatial)\n",
        "#ca_spatial.drop(['age_under5','age_5to9','age_10to14','age_15to19','age_20to24','age_25to29','age_30to34','age_35to39','age_40to44','age_45to49','age_50to54','age_55to59','age_60to64','age_65to69','age_70to74','age_75to79','age_80to84','age_85_ove','age16_over','age18_over','age21_over','age62_over','age65_over','male','female'], axis=0, inplace=False)"
      ],
      "execution_count": 17,
      "outputs": []
    },
    {
      "cell_type": "markdown",
      "metadata": {
        "id": "ZC-AQG8fcImm"
      },
      "source": [
        "Condense records by summing investment per zip."
      ]
    },
    {
      "cell_type": "code",
      "metadata": {
        "id": "ATlbKFXTg8ac"
      },
      "source": [
        "ca_spatial['Action Obligation ($)'] = ca_spatial['Action Obligation ($)'].str.replace(',', '').str.replace('$', '')"
      ],
      "execution_count": 18,
      "outputs": []
    },
    {
      "cell_type": "code",
      "metadata": {
        "id": "Em5Kd3dde1wO"
      },
      "source": [
        "ca_spatial['Action Obligation ($)']= ca_spatial['Action Obligation ($)'].astype(float)"
      ],
      "execution_count": 19,
      "outputs": []
    },
    {
      "cell_type": "code",
      "metadata": {
        "colab": {
          "base_uri": "https://localhost:8080/"
        },
        "id": "HXSc4WlAeYAQ",
        "outputId": "664c33e7-6548-4bb7-9265-56d8fe455938"
      },
      "source": [
        "ca_spatial['Action Obligation ($)'].astype(int)"
      ],
      "execution_count": 20,
      "outputs": [
        {
          "output_type": "execute_result",
          "data": {
            "text/plain": [
              "0          3769\n",
              "1         76000\n",
              "2        157000\n",
              "3             0\n",
              "4             0\n",
              "          ...  \n",
              "29787      2750\n",
              "29788     20000\n",
              "29789      4260\n",
              "29790     25785\n",
              "29791     71046\n",
              "Name: Action Obligation ($), Length: 29792, dtype: int64"
            ]
          },
          "metadata": {},
          "execution_count": 20
        }
      ]
    },
    {
      "cell_type": "code",
      "metadata": {
        "id": "GpoJj7nxcTC9"
      },
      "source": [
        "ca_sum = ca_spatial.groupby(['Year', 'ZIP'],as_index=False)['Action Obligation ($)'].sum()"
      ],
      "execution_count": 21,
      "outputs": []
    },
    {
      "cell_type": "code",
      "metadata": {
        "colab": {
          "base_uri": "https://localhost:8080/",
          "height": 423
        },
        "id": "GPZg---inhwx",
        "outputId": "28f5e9cd-9b27-4ebf-f38e-bc8fc5f13df4"
      },
      "source": [
        "pd.DataFrame(ca_sum)"
      ],
      "execution_count": 22,
      "outputs": [
        {
          "output_type": "execute_result",
          "data": {
            "text/html": [
              "<div>\n",
              "<style scoped>\n",
              "    .dataframe tbody tr th:only-of-type {\n",
              "        vertical-align: middle;\n",
              "    }\n",
              "\n",
              "    .dataframe tbody tr th {\n",
              "        vertical-align: top;\n",
              "    }\n",
              "\n",
              "    .dataframe thead th {\n",
              "        text-align: right;\n",
              "    }\n",
              "</style>\n",
              "<table border=\"1\" class=\"dataframe\">\n",
              "  <thead>\n",
              "    <tr style=\"text-align: right;\">\n",
              "      <th></th>\n",
              "      <th>Year</th>\n",
              "      <th>ZIP</th>\n",
              "      <th>Action Obligation ($)</th>\n",
              "    </tr>\n",
              "  </thead>\n",
              "  <tbody>\n",
              "    <tr>\n",
              "      <th>0</th>\n",
              "      <td>1980</td>\n",
              "      <td>92122</td>\n",
              "      <td>138000.00</td>\n",
              "    </tr>\n",
              "    <tr>\n",
              "      <th>1</th>\n",
              "      <td>1981</td>\n",
              "      <td>92122</td>\n",
              "      <td>1420000.00</td>\n",
              "    </tr>\n",
              "    <tr>\n",
              "      <th>2</th>\n",
              "      <td>1982</td>\n",
              "      <td>92122</td>\n",
              "      <td>1324000.00</td>\n",
              "    </tr>\n",
              "    <tr>\n",
              "      <th>3</th>\n",
              "      <td>1983</td>\n",
              "      <td>92122</td>\n",
              "      <td>2282000.00</td>\n",
              "    </tr>\n",
              "    <tr>\n",
              "      <th>4</th>\n",
              "      <td>1983</td>\n",
              "      <td>92704</td>\n",
              "      <td>1799000.00</td>\n",
              "    </tr>\n",
              "    <tr>\n",
              "      <th>...</th>\n",
              "      <td>...</td>\n",
              "      <td>...</td>\n",
              "      <td>...</td>\n",
              "    </tr>\n",
              "    <tr>\n",
              "      <th>874</th>\n",
              "      <td>2021</td>\n",
              "      <td>94043</td>\n",
              "      <td>325491.95</td>\n",
              "    </tr>\n",
              "    <tr>\n",
              "      <th>875</th>\n",
              "      <td>2021</td>\n",
              "      <td>94520</td>\n",
              "      <td>0.00</td>\n",
              "    </tr>\n",
              "    <tr>\n",
              "      <th>876</th>\n",
              "      <td>2021</td>\n",
              "      <td>95642</td>\n",
              "      <td>397314.75</td>\n",
              "    </tr>\n",
              "    <tr>\n",
              "      <th>877</th>\n",
              "      <td>2021</td>\n",
              "      <td>95742</td>\n",
              "      <td>6285539.20</td>\n",
              "    </tr>\n",
              "    <tr>\n",
              "      <th>878</th>\n",
              "      <td>2021</td>\n",
              "      <td>95838</td>\n",
              "      <td>29177816.94</td>\n",
              "    </tr>\n",
              "  </tbody>\n",
              "</table>\n",
              "<p>879 rows × 3 columns</p>\n",
              "</div>"
            ],
            "text/plain": [
              "     Year    ZIP  Action Obligation ($)\n",
              "0    1980  92122              138000.00\n",
              "1    1981  92122             1420000.00\n",
              "2    1982  92122             1324000.00\n",
              "3    1983  92122             2282000.00\n",
              "4    1983  92704             1799000.00\n",
              "..    ...    ...                    ...\n",
              "874  2021  94043              325491.95\n",
              "875  2021  94520                   0.00\n",
              "876  2021  95642              397314.75\n",
              "877  2021  95742             6285539.20\n",
              "878  2021  95838            29177816.94\n",
              "\n",
              "[879 rows x 3 columns]"
            ]
          },
          "metadata": {},
          "execution_count": 22
        }
      ]
    },
    {
      "cell_type": "code",
      "metadata": {
        "id": "e5pZtUuLrA-d"
      },
      "source": [
        "ca = ca_zip.merge(ca_sum, on='ZIP', validate = '1:m')"
      ],
      "execution_count": 40,
      "outputs": []
    },
    {
      "cell_type": "code",
      "metadata": {
        "id": "IGK51T9u4eR1",
        "colab": {
          "base_uri": "https://localhost:8080/",
          "height": 620
        },
        "outputId": "72461a65-44f3-4d48-e879-2d4edcd0eb8a"
      },
      "source": [
        "ca.head()"
      ],
      "execution_count": 24,
      "outputs": [
        {
          "output_type": "execute_result",
          "data": {
            "text/html": [
              "<div>\n",
              "<style scoped>\n",
              "    .dataframe tbody tr th:only-of-type {\n",
              "        vertical-align: middle;\n",
              "    }\n",
              "\n",
              "    .dataframe tbody tr th {\n",
              "        vertical-align: top;\n",
              "    }\n",
              "\n",
              "    .dataframe thead th {\n",
              "        text-align: right;\n",
              "    }\n",
              "</style>\n",
              "<table border=\"1\" class=\"dataframe\">\n",
              "  <thead>\n",
              "    <tr style=\"text-align: right;\">\n",
              "      <th></th>\n",
              "      <th>objectid</th>\n",
              "      <th>cnty_fips</th>\n",
              "      <th>county</th>\n",
              "      <th>tract</th>\n",
              "      <th>tract_id</th>\n",
              "      <th>census_key</th>\n",
              "      <th>zcta</th>\n",
              "      <th>zcta_key</th>\n",
              "      <th>latitude</th>\n",
              "      <th>longitude</th>\n",
              "      <th>tot_pop</th>\n",
              "      <th>age_under5</th>\n",
              "      <th>age_5to9</th>\n",
              "      <th>age_10to14</th>\n",
              "      <th>age_15to19</th>\n",
              "      <th>age_20to24</th>\n",
              "      <th>age_25to29</th>\n",
              "      <th>age_30to34</th>\n",
              "      <th>age_35to39</th>\n",
              "      <th>age_40to44</th>\n",
              "      <th>age_45to49</th>\n",
              "      <th>age_50to54</th>\n",
              "      <th>age_55to59</th>\n",
              "      <th>age_60to64</th>\n",
              "      <th>age_65to69</th>\n",
              "      <th>age_70to74</th>\n",
              "      <th>age_75to79</th>\n",
              "      <th>age_80to84</th>\n",
              "      <th>age_85_ove</th>\n",
              "      <th>age16_over</th>\n",
              "      <th>age18_over</th>\n",
              "      <th>age21_over</th>\n",
              "      <th>age62_over</th>\n",
              "      <th>age65_over</th>\n",
              "      <th>male</th>\n",
              "      <th>female</th>\n",
              "      <th>age_median</th>\n",
              "      <th>age_medi_1</th>\n",
              "      <th>age_medi_2</th>\n",
              "      <th>one_race</th>\n",
              "      <th>...</th>\n",
              "      <th>white_nhl</th>\n",
              "      <th>black_af_1</th>\n",
              "      <th>amind_al_1</th>\n",
              "      <th>asian_nhl</th>\n",
              "      <th>nathaw_i_1</th>\n",
              "      <th>other_nhl</th>\n",
              "      <th>multi_ra_1</th>\n",
              "      <th>tot_in_hou</th>\n",
              "      <th>tot_in_gc</th>\n",
              "      <th>gc_inst</th>\n",
              "      <th>gc_noninst</th>\n",
              "      <th>gc_correct</th>\n",
              "      <th>gc_juv</th>\n",
              "      <th>gc_nurs</th>\n",
              "      <th>gc_other</th>\n",
              "      <th>hh_total</th>\n",
              "      <th>hh_family</th>\n",
              "      <th>hh_nonfaml</th>\n",
              "      <th>hh_nonfami</th>\n",
              "      <th>hh_nonfa_1</th>\n",
              "      <th>hh_nonfa_2</th>\n",
              "      <th>hh_nonfa_3</th>\n",
              "      <th>hh_nonfa_4</th>\n",
              "      <th>hh_with_un</th>\n",
              "      <th>hh_with_65</th>\n",
              "      <th>hu_total</th>\n",
              "      <th>hu_occ</th>\n",
              "      <th>hu_vac</th>\n",
              "      <th>hu_vac_ren</th>\n",
              "      <th>hu_vac_sea</th>\n",
              "      <th>hu_occ_own</th>\n",
              "      <th>hu_occ_o_1</th>\n",
              "      <th>hu_occ_ren</th>\n",
              "      <th>hu_occ_r_1</th>\n",
              "      <th>shape_area</th>\n",
              "      <th>shape_len</th>\n",
              "      <th>geometry</th>\n",
              "      <th>ZIP</th>\n",
              "      <th>Year</th>\n",
              "      <th>Action Obligation ($)</th>\n",
              "    </tr>\n",
              "  </thead>\n",
              "  <tbody>\n",
              "    <tr>\n",
              "      <th>0</th>\n",
              "      <td>43.0</td>\n",
              "      <td>None</td>\n",
              "      <td>None</td>\n",
              "      <td>None</td>\n",
              "      <td>None</td>\n",
              "      <td>None</td>\n",
              "      <td>93311</td>\n",
              "      <td>0693311</td>\n",
              "      <td>35.194168</td>\n",
              "      <td>-119.174439</td>\n",
              "      <td>40829.0</td>\n",
              "      <td>3052.0</td>\n",
              "      <td>3183.0</td>\n",
              "      <td>3551.0</td>\n",
              "      <td>3578.0</td>\n",
              "      <td>2753.0</td>\n",
              "      <td>2709.0</td>\n",
              "      <td>2876.0</td>\n",
              "      <td>2896.0</td>\n",
              "      <td>3019.0</td>\n",
              "      <td>2858.0</td>\n",
              "      <td>2916.0</td>\n",
              "      <td>2368.0</td>\n",
              "      <td>1681.0</td>\n",
              "      <td>1101.0</td>\n",
              "      <td>760.0</td>\n",
              "      <td>575.0</td>\n",
              "      <td>476.0</td>\n",
              "      <td>477.0</td>\n",
              "      <td>30261.0</td>\n",
              "      <td>28772.0</td>\n",
              "      <td>26822.0</td>\n",
              "      <td>4351.0</td>\n",
              "      <td>3389.0</td>\n",
              "      <td>19997.0</td>\n",
              "      <td>20832.0</td>\n",
              "      <td>32.7</td>\n",
              "      <td>31.8</td>\n",
              "      <td>33.7</td>\n",
              "      <td>38797.0</td>\n",
              "      <td>...</td>\n",
              "      <td>19485.0</td>\n",
              "      <td>2262.0</td>\n",
              "      <td>240.0</td>\n",
              "      <td>5314.0</td>\n",
              "      <td>74.0</td>\n",
              "      <td>120.0</td>\n",
              "      <td>1119.0</td>\n",
              "      <td>40457.0</td>\n",
              "      <td>372.0</td>\n",
              "      <td>46.0</td>\n",
              "      <td>326.0</td>\n",
              "      <td>0.0</td>\n",
              "      <td>34.0</td>\n",
              "      <td>12.0</td>\n",
              "      <td>0.0</td>\n",
              "      <td>13542.0</td>\n",
              "      <td>10432.0</td>\n",
              "      <td>3110.0</td>\n",
              "      <td>2448.0</td>\n",
              "      <td>1055.0</td>\n",
              "      <td>190.0</td>\n",
              "      <td>1393.0</td>\n",
              "      <td>636.0</td>\n",
              "      <td>6186.0</td>\n",
              "      <td>2503.0</td>\n",
              "      <td>14414.0</td>\n",
              "      <td>13542.0</td>\n",
              "      <td>872.0</td>\n",
              "      <td>290.0</td>\n",
              "      <td>57.0</td>\n",
              "      <td>9749.0</td>\n",
              "      <td>29843.0</td>\n",
              "      <td>3793.0</td>\n",
              "      <td>10614.0</td>\n",
              "      <td>4.406307e+08</td>\n",
              "      <td>183847.032314</td>\n",
              "      <td>MULTIPOLYGON (((-119.09215 35.32176, -119.0921...</td>\n",
              "      <td>93311</td>\n",
              "      <td>2010</td>\n",
              "      <td>3769.50</td>\n",
              "    </tr>\n",
              "    <tr>\n",
              "      <th>1</th>\n",
              "      <td>55.0</td>\n",
              "      <td>None</td>\n",
              "      <td>None</td>\n",
              "      <td>None</td>\n",
              "      <td>None</td>\n",
              "      <td>None</td>\n",
              "      <td>91504</td>\n",
              "      <td>0691504</td>\n",
              "      <td>34.204516</td>\n",
              "      <td>-118.326955</td>\n",
              "      <td>24939.0</td>\n",
              "      <td>1294.0</td>\n",
              "      <td>1381.0</td>\n",
              "      <td>1519.0</td>\n",
              "      <td>1759.0</td>\n",
              "      <td>1748.0</td>\n",
              "      <td>1749.0</td>\n",
              "      <td>1763.0</td>\n",
              "      <td>1768.0</td>\n",
              "      <td>1875.0</td>\n",
              "      <td>2012.0</td>\n",
              "      <td>1857.0</td>\n",
              "      <td>1567.0</td>\n",
              "      <td>1320.0</td>\n",
              "      <td>1029.0</td>\n",
              "      <td>714.0</td>\n",
              "      <td>534.0</td>\n",
              "      <td>468.0</td>\n",
              "      <td>582.0</td>\n",
              "      <td>20369.0</td>\n",
              "      <td>19704.0</td>\n",
              "      <td>18626.0</td>\n",
              "      <td>4130.0</td>\n",
              "      <td>3327.0</td>\n",
              "      <td>12006.0</td>\n",
              "      <td>12933.0</td>\n",
              "      <td>38.6</td>\n",
              "      <td>37.4</td>\n",
              "      <td>39.8</td>\n",
              "      <td>23805.0</td>\n",
              "      <td>...</td>\n",
              "      <td>13906.0</td>\n",
              "      <td>500.0</td>\n",
              "      <td>28.0</td>\n",
              "      <td>3278.0</td>\n",
              "      <td>24.0</td>\n",
              "      <td>64.0</td>\n",
              "      <td>716.0</td>\n",
              "      <td>24662.0</td>\n",
              "      <td>277.0</td>\n",
              "      <td>5.0</td>\n",
              "      <td>272.0</td>\n",
              "      <td>0.0</td>\n",
              "      <td>0.0</td>\n",
              "      <td>0.0</td>\n",
              "      <td>5.0</td>\n",
              "      <td>9180.0</td>\n",
              "      <td>6431.0</td>\n",
              "      <td>2749.0</td>\n",
              "      <td>2165.0</td>\n",
              "      <td>950.0</td>\n",
              "      <td>203.0</td>\n",
              "      <td>1215.0</td>\n",
              "      <td>584.0</td>\n",
              "      <td>3084.0</td>\n",
              "      <td>2476.0</td>\n",
              "      <td>9702.0</td>\n",
              "      <td>9180.0</td>\n",
              "      <td>522.0</td>\n",
              "      <td>262.0</td>\n",
              "      <td>16.0</td>\n",
              "      <td>5194.0</td>\n",
              "      <td>14594.0</td>\n",
              "      <td>3986.0</td>\n",
              "      <td>10068.0</td>\n",
              "      <td>1.281297e+07</td>\n",
              "      <td>16676.416795</td>\n",
              "      <td>POLYGON ((-118.34858 34.20846, -118.34856 34.2...</td>\n",
              "      <td>91504</td>\n",
              "      <td>1995</td>\n",
              "      <td>233000.00</td>\n",
              "    </tr>\n",
              "    <tr>\n",
              "      <th>2</th>\n",
              "      <td>55.0</td>\n",
              "      <td>None</td>\n",
              "      <td>None</td>\n",
              "      <td>None</td>\n",
              "      <td>None</td>\n",
              "      <td>None</td>\n",
              "      <td>91504</td>\n",
              "      <td>0691504</td>\n",
              "      <td>34.204516</td>\n",
              "      <td>-118.326955</td>\n",
              "      <td>24939.0</td>\n",
              "      <td>1294.0</td>\n",
              "      <td>1381.0</td>\n",
              "      <td>1519.0</td>\n",
              "      <td>1759.0</td>\n",
              "      <td>1748.0</td>\n",
              "      <td>1749.0</td>\n",
              "      <td>1763.0</td>\n",
              "      <td>1768.0</td>\n",
              "      <td>1875.0</td>\n",
              "      <td>2012.0</td>\n",
              "      <td>1857.0</td>\n",
              "      <td>1567.0</td>\n",
              "      <td>1320.0</td>\n",
              "      <td>1029.0</td>\n",
              "      <td>714.0</td>\n",
              "      <td>534.0</td>\n",
              "      <td>468.0</td>\n",
              "      <td>582.0</td>\n",
              "      <td>20369.0</td>\n",
              "      <td>19704.0</td>\n",
              "      <td>18626.0</td>\n",
              "      <td>4130.0</td>\n",
              "      <td>3327.0</td>\n",
              "      <td>12006.0</td>\n",
              "      <td>12933.0</td>\n",
              "      <td>38.6</td>\n",
              "      <td>37.4</td>\n",
              "      <td>39.8</td>\n",
              "      <td>23805.0</td>\n",
              "      <td>...</td>\n",
              "      <td>13906.0</td>\n",
              "      <td>500.0</td>\n",
              "      <td>28.0</td>\n",
              "      <td>3278.0</td>\n",
              "      <td>24.0</td>\n",
              "      <td>64.0</td>\n",
              "      <td>716.0</td>\n",
              "      <td>24662.0</td>\n",
              "      <td>277.0</td>\n",
              "      <td>5.0</td>\n",
              "      <td>272.0</td>\n",
              "      <td>0.0</td>\n",
              "      <td>0.0</td>\n",
              "      <td>0.0</td>\n",
              "      <td>5.0</td>\n",
              "      <td>9180.0</td>\n",
              "      <td>6431.0</td>\n",
              "      <td>2749.0</td>\n",
              "      <td>2165.0</td>\n",
              "      <td>950.0</td>\n",
              "      <td>203.0</td>\n",
              "      <td>1215.0</td>\n",
              "      <td>584.0</td>\n",
              "      <td>3084.0</td>\n",
              "      <td>2476.0</td>\n",
              "      <td>9702.0</td>\n",
              "      <td>9180.0</td>\n",
              "      <td>522.0</td>\n",
              "      <td>262.0</td>\n",
              "      <td>16.0</td>\n",
              "      <td>5194.0</td>\n",
              "      <td>14594.0</td>\n",
              "      <td>3986.0</td>\n",
              "      <td>10068.0</td>\n",
              "      <td>1.281297e+07</td>\n",
              "      <td>16676.416795</td>\n",
              "      <td>POLYGON ((-118.34858 34.20846, -118.34856 34.2...</td>\n",
              "      <td>91504</td>\n",
              "      <td>1996</td>\n",
              "      <td>184000.00</td>\n",
              "    </tr>\n",
              "    <tr>\n",
              "      <th>3</th>\n",
              "      <td>62.0</td>\n",
              "      <td>None</td>\n",
              "      <td>None</td>\n",
              "      <td>None</td>\n",
              "      <td>None</td>\n",
              "      <td>None</td>\n",
              "      <td>91789</td>\n",
              "      <td>0691789</td>\n",
              "      <td>34.018310</td>\n",
              "      <td>-117.854612</td>\n",
              "      <td>43079.0</td>\n",
              "      <td>1552.0</td>\n",
              "      <td>2158.0</td>\n",
              "      <td>2890.0</td>\n",
              "      <td>3595.0</td>\n",
              "      <td>3400.0</td>\n",
              "      <td>2301.0</td>\n",
              "      <td>1884.0</td>\n",
              "      <td>2199.0</td>\n",
              "      <td>2783.0</td>\n",
              "      <td>3649.0</td>\n",
              "      <td>4229.0</td>\n",
              "      <td>3806.0</td>\n",
              "      <td>3188.0</td>\n",
              "      <td>2032.0</td>\n",
              "      <td>1352.0</td>\n",
              "      <td>894.0</td>\n",
              "      <td>636.0</td>\n",
              "      <td>531.0</td>\n",
              "      <td>35793.0</td>\n",
              "      <td>34249.0</td>\n",
              "      <td>32123.0</td>\n",
              "      <td>7208.0</td>\n",
              "      <td>5445.0</td>\n",
              "      <td>20988.0</td>\n",
              "      <td>22091.0</td>\n",
              "      <td>42.8</td>\n",
              "      <td>41.2</td>\n",
              "      <td>44.2</td>\n",
              "      <td>41550.0</td>\n",
              "      <td>...</td>\n",
              "      <td>6394.0</td>\n",
              "      <td>1157.0</td>\n",
              "      <td>39.0</td>\n",
              "      <td>25819.0</td>\n",
              "      <td>58.0</td>\n",
              "      <td>72.0</td>\n",
              "      <td>894.0</td>\n",
              "      <td>42622.0</td>\n",
              "      <td>457.0</td>\n",
              "      <td>12.0</td>\n",
              "      <td>445.0</td>\n",
              "      <td>0.0</td>\n",
              "      <td>2.0</td>\n",
              "      <td>10.0</td>\n",
              "      <td>0.0</td>\n",
              "      <td>12891.0</td>\n",
              "      <td>11314.0</td>\n",
              "      <td>1577.0</td>\n",
              "      <td>1192.0</td>\n",
              "      <td>455.0</td>\n",
              "      <td>147.0</td>\n",
              "      <td>737.0</td>\n",
              "      <td>363.0</td>\n",
              "      <td>5122.0</td>\n",
              "      <td>3913.0</td>\n",
              "      <td>13246.0</td>\n",
              "      <td>12891.0</td>\n",
              "      <td>355.0</td>\n",
              "      <td>99.0</td>\n",
              "      <td>40.0</td>\n",
              "      <td>11155.0</td>\n",
              "      <td>36636.0</td>\n",
              "      <td>1736.0</td>\n",
              "      <td>5986.0</td>\n",
              "      <td>4.061262e+07</td>\n",
              "      <td>48778.020132</td>\n",
              "      <td>POLYGON ((-117.88360 34.01488, -117.88372 34.0...</td>\n",
              "      <td>91789</td>\n",
              "      <td>2015</td>\n",
              "      <td>1951015.43</td>\n",
              "    </tr>\n",
              "    <tr>\n",
              "      <th>4</th>\n",
              "      <td>62.0</td>\n",
              "      <td>None</td>\n",
              "      <td>None</td>\n",
              "      <td>None</td>\n",
              "      <td>None</td>\n",
              "      <td>None</td>\n",
              "      <td>91789</td>\n",
              "      <td>0691789</td>\n",
              "      <td>34.018310</td>\n",
              "      <td>-117.854612</td>\n",
              "      <td>43079.0</td>\n",
              "      <td>1552.0</td>\n",
              "      <td>2158.0</td>\n",
              "      <td>2890.0</td>\n",
              "      <td>3595.0</td>\n",
              "      <td>3400.0</td>\n",
              "      <td>2301.0</td>\n",
              "      <td>1884.0</td>\n",
              "      <td>2199.0</td>\n",
              "      <td>2783.0</td>\n",
              "      <td>3649.0</td>\n",
              "      <td>4229.0</td>\n",
              "      <td>3806.0</td>\n",
              "      <td>3188.0</td>\n",
              "      <td>2032.0</td>\n",
              "      <td>1352.0</td>\n",
              "      <td>894.0</td>\n",
              "      <td>636.0</td>\n",
              "      <td>531.0</td>\n",
              "      <td>35793.0</td>\n",
              "      <td>34249.0</td>\n",
              "      <td>32123.0</td>\n",
              "      <td>7208.0</td>\n",
              "      <td>5445.0</td>\n",
              "      <td>20988.0</td>\n",
              "      <td>22091.0</td>\n",
              "      <td>42.8</td>\n",
              "      <td>41.2</td>\n",
              "      <td>44.2</td>\n",
              "      <td>41550.0</td>\n",
              "      <td>...</td>\n",
              "      <td>6394.0</td>\n",
              "      <td>1157.0</td>\n",
              "      <td>39.0</td>\n",
              "      <td>25819.0</td>\n",
              "      <td>58.0</td>\n",
              "      <td>72.0</td>\n",
              "      <td>894.0</td>\n",
              "      <td>42622.0</td>\n",
              "      <td>457.0</td>\n",
              "      <td>12.0</td>\n",
              "      <td>445.0</td>\n",
              "      <td>0.0</td>\n",
              "      <td>2.0</td>\n",
              "      <td>10.0</td>\n",
              "      <td>0.0</td>\n",
              "      <td>12891.0</td>\n",
              "      <td>11314.0</td>\n",
              "      <td>1577.0</td>\n",
              "      <td>1192.0</td>\n",
              "      <td>455.0</td>\n",
              "      <td>147.0</td>\n",
              "      <td>737.0</td>\n",
              "      <td>363.0</td>\n",
              "      <td>5122.0</td>\n",
              "      <td>3913.0</td>\n",
              "      <td>13246.0</td>\n",
              "      <td>12891.0</td>\n",
              "      <td>355.0</td>\n",
              "      <td>99.0</td>\n",
              "      <td>40.0</td>\n",
              "      <td>11155.0</td>\n",
              "      <td>36636.0</td>\n",
              "      <td>1736.0</td>\n",
              "      <td>5986.0</td>\n",
              "      <td>4.061262e+07</td>\n",
              "      <td>48778.020132</td>\n",
              "      <td>POLYGON ((-117.88360 34.01488, -117.88372 34.0...</td>\n",
              "      <td>91789</td>\n",
              "      <td>2016</td>\n",
              "      <td>7919059.97</td>\n",
              "    </tr>\n",
              "  </tbody>\n",
              "</table>\n",
              "<p>5 rows × 89 columns</p>\n",
              "</div>"
            ],
            "text/plain": [
              "   objectid cnty_fips county  ...    ZIP  Year Action Obligation ($)\n",
              "0      43.0      None   None  ...  93311  2010               3769.50\n",
              "1      55.0      None   None  ...  91504  1995             233000.00\n",
              "2      55.0      None   None  ...  91504  1996             184000.00\n",
              "3      62.0      None   None  ...  91789  2015            1951015.43\n",
              "4      62.0      None   None  ...  91789  2016            7919059.97\n",
              "\n",
              "[5 rows x 89 columns]"
            ]
          },
          "metadata": {},
          "execution_count": 24
        }
      ]
    },
    {
      "cell_type": "code",
      "metadata": {
        "colab": {
          "base_uri": "https://localhost:8080/"
        },
        "id": "oTjRc7mh4pVS",
        "outputId": "5f34086c-8588-47bb-9807-d659507fee11"
      },
      "source": [
        "ca.shape"
      ],
      "execution_count": null,
      "outputs": [
        {
          "output_type": "execute_result",
          "data": {
            "text/plain": [
              "(879, 89)"
            ]
          },
          "metadata": {},
          "execution_count": 25
        }
      ]
    },
    {
      "cell_type": "markdown",
      "metadata": {
        "id": "4KjeuqeHqiZK"
      },
      "source": [
        "**Exploratory Spatial Data Analysis**\n",
        "Using the now-clean files,"
      ]
    },
    {
      "cell_type": "code",
      "metadata": {
        "id": "Tum6GSXAqEYI"
      },
      "source": [
        "w_queen = Queen.from_dataframe(ca)"
      ],
      "execution_count": 25,
      "outputs": []
    },
    {
      "cell_type": "code",
      "metadata": {
        "id": "nzrcK_z_mSTa"
      },
      "source": [
        "ca_plot = gpd.GeoDataFrame(ca)"
      ],
      "execution_count": 35,
      "outputs": []
    },
    {
      "cell_type": "code",
      "metadata": {
        "colab": {
          "base_uri": "https://localhost:8080/",
          "height": 248
        },
        "id": "IFTG7Z_SEOsj",
        "outputId": "3a3f1242-9533-47c8-eb5c-54cab9fa39a3"
      },
      "source": [
        "#plot queen lattice to check work\n",
        "ax = ca_plot.plot(edgecolor='grey', facecolor='w')\n",
        "ca,ax = w_queen.plot(ca,ax=ax, \n",
        "        edge_kws= dict(color='r', linestyle=':', linewidth=1),\n",
        "        node_kws = dict(marker=''))\n",
        "ax.set_axis_off()"
      ],
      "execution_count": 36,
      "outputs": [
        {
          "output_type": "display_data",
          "data": {
            "image/png": "[encoded data removed]",
            "text/plain": [
              "<Figure size 432x288 with 1 Axes>"
            ]
          },
          "metadata": {
            "needs_background": "light"
          }
        }
      ]
    },
    {
      "cell_type": "code",
      "metadata": {
        "colab": {
          "base_uri": "https://localhost:8080/",
          "height": 282
        },
        "id": "EIyZKagFFNmI",
        "outputId": "679d67fb-22c4-4eda-e3d0-86966220ec9f"
      },
      "source": [
        "queen_card = pd.Series(w_queen.cardinalities)\n",
        "sns.distplot(queen_card, bins=10)"
      ],
      "execution_count": 27,
      "outputs": [
        {
          "output_type": "execute_result",
          "data": {
            "text/plain": [
              "<matplotlib.axes._subplots.AxesSubplot at 0x7f6297454fd0>"
            ]
          },
          "metadata": {},
          "execution_count": 27
        },
        {
          "output_type": "display_data",
          "data": {
            "image/png": "[encoded data removed]",
            "text/plain": [
              "<Figure size 432x288 with 1 Axes>"
            ]
          },
          "metadata": {
            "needs_background": "light"
          }
        }
      ]
    },
    {
      "cell_type": "code",
      "metadata": {
        "id": "qSl5fxJMGWbr"
      },
      "source": [
        "year = ['1965', '1966', '1967', '1968', '1969', '1970', '1971', '1972', '1973', '1974', '1975', '1976', '1977', '1978', '1979', '1980', '1981', '1982', '1983', '1984', '1985', '1986', '1987', '1988', '1989', '1990', '1991',\n",
        "'1992', '1993', '1994', '1995', '1996', '1997', '1998', '1999', '2000', '2001', '2002', '2003', '2004', '2005', '2006', '2007', '2008', '2009', '2010', '2011', '2012', '2013', '2014', '2015', '2016', '2017', '2018', '2019', '2020', '2021']"
      ],
      "execution_count": 65,
      "outputs": []
    },
    {
      "cell_type": "code",
      "metadata": {
        "id": "DieXvtfRuMIf"
      },
      "source": [
        "for i in year:\n",
        "  str(i)"
      ],
      "execution_count": 67,
      "outputs": []
    },
    {
      "cell_type": "code",
      "metadata": {
        "id": "UFGdGiuCo_fh"
      },
      "source": [
        "ca_time = gpd.GeoDataFrame(ca[['geometry', 'ZIP', 'Year','Action Obligation ($)']]).dropna()"
      ],
      "execution_count": 51,
      "outputs": []
    },
    {
      "cell_type": "code",
      "metadata": {
        "colab": {
          "base_uri": "https://localhost:8080/",
          "height": 206
        },
        "id": "mypHeD-vq8yH",
        "outputId": "7314bdb6-54c3-4d6a-a494-21f6251ca97c"
      },
      "source": [
        "ca_time.tail()"
      ],
      "execution_count": 70,
      "outputs": [
        {
          "output_type": "execute_result",
          "data": {
            "text/html": [
              "<div>\n",
              "<style scoped>\n",
              "    .dataframe tbody tr th:only-of-type {\n",
              "        vertical-align: middle;\n",
              "    }\n",
              "\n",
              "    .dataframe tbody tr th {\n",
              "        vertical-align: top;\n",
              "    }\n",
              "\n",
              "    .dataframe thead th {\n",
              "        text-align: right;\n",
              "    }\n",
              "</style>\n",
              "<table border=\"1\" class=\"dataframe\">\n",
              "  <thead>\n",
              "    <tr style=\"text-align: right;\">\n",
              "      <th></th>\n",
              "      <th>geometry</th>\n",
              "      <th>ZIP</th>\n",
              "      <th>Year</th>\n",
              "      <th>Action Obligation ($)</th>\n",
              "    </tr>\n",
              "  </thead>\n",
              "  <tbody>\n",
              "    <tr>\n",
              "      <th>874</th>\n",
              "      <td>POLYGON ((-122.40384 37.78983, -122.40393 37.7...</td>\n",
              "      <td>94104</td>\n",
              "      <td>2020</td>\n",
              "      <td>2750.0</td>\n",
              "    </tr>\n",
              "    <tr>\n",
              "      <th>875</th>\n",
              "      <td>POLYGON ((-120.67380 35.18110, -120.67432 35.1...</td>\n",
              "      <td>93401</td>\n",
              "      <td>2008</td>\n",
              "      <td>25785.0</td>\n",
              "    </tr>\n",
              "    <tr>\n",
              "      <th>876</th>\n",
              "      <td>POLYGON ((-120.67380 35.18110, -120.67432 35.1...</td>\n",
              "      <td>93401</td>\n",
              "      <td>2018</td>\n",
              "      <td>4260.0</td>\n",
              "    </tr>\n",
              "    <tr>\n",
              "      <th>877</th>\n",
              "      <td>POLYGON ((-120.67380 35.18110, -120.67432 35.1...</td>\n",
              "      <td>93401</td>\n",
              "      <td>2019</td>\n",
              "      <td>20000.0</td>\n",
              "    </tr>\n",
              "    <tr>\n",
              "      <th>878</th>\n",
              "      <td>POLYGON ((-122.13476 37.39877, -122.13467 37.3...</td>\n",
              "      <td>94306</td>\n",
              "      <td>2019</td>\n",
              "      <td>71046.0</td>\n",
              "    </tr>\n",
              "  </tbody>\n",
              "</table>\n",
              "</div>"
            ],
            "text/plain": [
              "                                              geometry  ... Action Obligation ($)\n",
              "874  POLYGON ((-122.40384 37.78983, -122.40393 37.7...  ...                2750.0\n",
              "875  POLYGON ((-120.67380 35.18110, -120.67432 35.1...  ...               25785.0\n",
              "876  POLYGON ((-120.67380 35.18110, -120.67432 35.1...  ...                4260.0\n",
              "877  POLYGON ((-120.67380 35.18110, -120.67432 35.1...  ...               20000.0\n",
              "878  POLYGON ((-122.13476 37.39877, -122.13467 37.3...  ...               71046.0\n",
              "\n",
              "[5 rows x 4 columns]"
            ]
          },
          "metadata": {},
          "execution_count": 70
        }
      ]
    },
    {
      "cell_type": "code",
      "metadata": {
        "colab": {
          "base_uri": "https://localhost:8080/",
          "height": 1000
        },
        "id": "bbZP1HhBmHOb",
        "outputId": "e9fa0863-66bf-4e8e-aa4a-de974c34d597"
      },
      "source": [
        "f, axs = plt.subplots(nrows=3, ncols=3, figsize=(12, 12))\n",
        "# Make the axes accessible with single indexing\n",
        "axs = axs.flatten()\n",
        "# Start a loop over all the variables of interest\n",
        "for i, col in enumerate([year]):\n",
        "    # select the axis where the map will go\n",
        "    ax = axs[i]\n",
        "    # Plot the map\n",
        "    ca_time.plot(\n",
        "        column=col, \n",
        "        ax=ax,\n",
        "        scheme='Quantiles', \n",
        "        linewidth=0,\n",
        "        cmap='RdPu'\n",
        "    )\n",
        "    # Remove axis clutter\n",
        "    ax.set_axis_off()\n",
        "    # Set the axis title to the name of variable being plotted\n",
        "    ax.set_title(col)\n",
        "# Display the figure\n",
        "plt.show()"
      ],
      "execution_count": 71,
      "outputs": [
        {
          "output_type": "error",
          "ename": "KeyError",
          "evalue": "ignored",
          "traceback": [
            "\u001b[0;31m---------------------------------------------------------------------------\u001b[0m",
            "\u001b[0;31mKeyError\u001b[0m                                  Traceback (most recent call last)",
            "\u001b[0;32m<ipython-input-71-c3ae92517584>\u001b[0m in \u001b[0;36m<module>\u001b[0;34m()\u001b[0m\n\u001b[1;32m     12\u001b[0m         \u001b[0mscheme\u001b[0m\u001b[0;34m=\u001b[0m\u001b[0;34m'Quantiles'\u001b[0m\u001b[0;34m,\u001b[0m\u001b[0;34m\u001b[0m\u001b[0;34m\u001b[0m\u001b[0m\n\u001b[1;32m     13\u001b[0m         \u001b[0mlinewidth\u001b[0m\u001b[0;34m=\u001b[0m\u001b[0;36m0\u001b[0m\u001b[0;34m,\u001b[0m\u001b[0;34m\u001b[0m\u001b[0;34m\u001b[0m\u001b[0m\n\u001b[0;32m---> 14\u001b[0;31m         \u001b[0mcmap\u001b[0m\u001b[0;34m=\u001b[0m\u001b[0;34m'RdPu'\u001b[0m\u001b[0;34m\u001b[0m\u001b[0;34m\u001b[0m\u001b[0m\n\u001b[0m\u001b[1;32m     15\u001b[0m     )\n\u001b[1;32m     16\u001b[0m     \u001b[0;31m# Remove axis clutter\u001b[0m\u001b[0;34m\u001b[0m\u001b[0;34m\u001b[0m\u001b[0;34m\u001b[0m\u001b[0m\n",
            "\u001b[0;32m/usr/local/lib/python3.7/dist-packages/geopandas/plotting.py\u001b[0m in \u001b[0;36m__call__\u001b[0;34m(self, *args, **kwargs)\u001b[0m\n\u001b[1;32m    923\u001b[0m             \u001b[0mkind\u001b[0m \u001b[0;34m=\u001b[0m \u001b[0mkwargs\u001b[0m\u001b[0;34m.\u001b[0m\u001b[0mpop\u001b[0m\u001b[0;34m(\u001b[0m\u001b[0;34m\"kind\"\u001b[0m\u001b[0;34m,\u001b[0m \u001b[0;34m\"geo\"\u001b[0m\u001b[0;34m)\u001b[0m\u001b[0;34m\u001b[0m\u001b[0;34m\u001b[0m\u001b[0m\n\u001b[1;32m    924\u001b[0m             \u001b[0;32mif\u001b[0m \u001b[0mkind\u001b[0m \u001b[0;34m==\u001b[0m \u001b[0;34m\"geo\"\u001b[0m\u001b[0;34m:\u001b[0m\u001b[0;34m\u001b[0m\u001b[0;34m\u001b[0m\u001b[0m\n\u001b[0;32m--> 925\u001b[0;31m                 \u001b[0;32mreturn\u001b[0m \u001b[0mplot_dataframe\u001b[0m\u001b[0;34m(\u001b[0m\u001b[0mdata\u001b[0m\u001b[0;34m,\u001b[0m \u001b[0;34m*\u001b[0m\u001b[0margs\u001b[0m\u001b[0;34m,\u001b[0m \u001b[0;34m**\u001b[0m\u001b[0mkwargs\u001b[0m\u001b[0;34m)\u001b[0m\u001b[0;34m\u001b[0m\u001b[0;34m\u001b[0m\u001b[0m\n\u001b[0m\u001b[1;32m    926\u001b[0m             \u001b[0;32mif\u001b[0m \u001b[0mkind\u001b[0m \u001b[0;32min\u001b[0m \u001b[0mself\u001b[0m\u001b[0;34m.\u001b[0m\u001b[0m_pandas_kinds\u001b[0m\u001b[0;34m:\u001b[0m\u001b[0;34m\u001b[0m\u001b[0;34m\u001b[0m\u001b[0m\n\u001b[1;32m    927\u001b[0m                 \u001b[0;31m# Access pandas plots\u001b[0m\u001b[0;34m\u001b[0m\u001b[0;34m\u001b[0m\u001b[0;34m\u001b[0m\u001b[0m\n",
            "\u001b[0;32m/usr/local/lib/python3.7/dist-packages/geopandas/plotting.py\u001b[0m in \u001b[0;36mplot_dataframe\u001b[0;34m(df, column, cmap, color, ax, cax, categorical, legend, scheme, k, vmin, vmax, markersize, figsize, legend_kwds, categories, classification_kwds, missing_kwds, aspect, **style_kwds)\u001b[0m\n\u001b[1;32m    711\u001b[0m                 \u001b[0mvalues\u001b[0m \u001b[0;34m=\u001b[0m \u001b[0mvalues\u001b[0m\u001b[0;34m.\u001b[0m\u001b[0mreindex\u001b[0m\u001b[0;34m(\u001b[0m\u001b[0mdf\u001b[0m\u001b[0;34m.\u001b[0m\u001b[0mindex\u001b[0m\u001b[0;34m)\u001b[0m\u001b[0;34m\u001b[0m\u001b[0;34m\u001b[0m\u001b[0m\n\u001b[1;32m    712\u001b[0m     \u001b[0;32melse\u001b[0m\u001b[0;34m:\u001b[0m\u001b[0;34m\u001b[0m\u001b[0;34m\u001b[0m\u001b[0m\n\u001b[0;32m--> 713\u001b[0;31m         \u001b[0mvalues\u001b[0m \u001b[0;34m=\u001b[0m \u001b[0mdf\u001b[0m\u001b[0;34m[\u001b[0m\u001b[0mcolumn\u001b[0m\u001b[0;34m]\u001b[0m\u001b[0;34m\u001b[0m\u001b[0;34m\u001b[0m\u001b[0m\n\u001b[0m\u001b[1;32m    714\u001b[0m \u001b[0;34m\u001b[0m\u001b[0m\n\u001b[1;32m    715\u001b[0m     \u001b[0;32mif\u001b[0m \u001b[0mpd\u001b[0m\u001b[0;34m.\u001b[0m\u001b[0mapi\u001b[0m\u001b[0;34m.\u001b[0m\u001b[0mtypes\u001b[0m\u001b[0;34m.\u001b[0m\u001b[0mis_categorical_dtype\u001b[0m\u001b[0;34m(\u001b[0m\u001b[0mvalues\u001b[0m\u001b[0;34m.\u001b[0m\u001b[0mdtype\u001b[0m\u001b[0;34m)\u001b[0m\u001b[0;34m:\u001b[0m\u001b[0;34m\u001b[0m\u001b[0;34m\u001b[0m\u001b[0m\n",
            "\u001b[0;32m/usr/local/lib/python3.7/dist-packages/geopandas/geodataframe.py\u001b[0m in \u001b[0;36m__getitem__\u001b[0;34m(self, key)\u001b[0m\n\u001b[1;32m   1297\u001b[0m         \u001b[0mGeoDataFrame\u001b[0m\u001b[0;34m.\u001b[0m\u001b[0;34m\u001b[0m\u001b[0;34m\u001b[0m\u001b[0m\n\u001b[1;32m   1298\u001b[0m         \"\"\"\n\u001b[0;32m-> 1299\u001b[0;31m         \u001b[0mresult\u001b[0m \u001b[0;34m=\u001b[0m \u001b[0msuper\u001b[0m\u001b[0;34m(\u001b[0m\u001b[0mGeoDataFrame\u001b[0m\u001b[0;34m,\u001b[0m \u001b[0mself\u001b[0m\u001b[0;34m)\u001b[0m\u001b[0;34m.\u001b[0m\u001b[0m__getitem__\u001b[0m\u001b[0;34m(\u001b[0m\u001b[0mkey\u001b[0m\u001b[0;34m)\u001b[0m\u001b[0;34m\u001b[0m\u001b[0;34m\u001b[0m\u001b[0m\n\u001b[0m\u001b[1;32m   1300\u001b[0m         \u001b[0mgeo_col\u001b[0m \u001b[0;34m=\u001b[0m \u001b[0mself\u001b[0m\u001b[0;34m.\u001b[0m\u001b[0m_geometry_column_name\u001b[0m\u001b[0;34m\u001b[0m\u001b[0;34m\u001b[0m\u001b[0m\n\u001b[1;32m   1301\u001b[0m         \u001b[0;32mif\u001b[0m \u001b[0misinstance\u001b[0m\u001b[0;34m(\u001b[0m\u001b[0mresult\u001b[0m\u001b[0;34m,\u001b[0m \u001b[0mSeries\u001b[0m\u001b[0;34m)\u001b[0m \u001b[0;32mand\u001b[0m \u001b[0misinstance\u001b[0m\u001b[0;34m(\u001b[0m\u001b[0mresult\u001b[0m\u001b[0;34m.\u001b[0m\u001b[0mdtype\u001b[0m\u001b[0;34m,\u001b[0m \u001b[0mGeometryDtype\u001b[0m\u001b[0;34m)\u001b[0m\u001b[0;34m:\u001b[0m\u001b[0;34m\u001b[0m\u001b[0;34m\u001b[0m\u001b[0m\n",
            "\u001b[0;32m/usr/local/lib/python3.7/dist-packages/pandas/core/frame.py\u001b[0m in \u001b[0;36m__getitem__\u001b[0;34m(self, key)\u001b[0m\n\u001b[1;32m   2910\u001b[0m             \u001b[0;32mif\u001b[0m \u001b[0mis_iterator\u001b[0m\u001b[0;34m(\u001b[0m\u001b[0mkey\u001b[0m\u001b[0;34m)\u001b[0m\u001b[0;34m:\u001b[0m\u001b[0;34m\u001b[0m\u001b[0;34m\u001b[0m\u001b[0m\n\u001b[1;32m   2911\u001b[0m                 \u001b[0mkey\u001b[0m \u001b[0;34m=\u001b[0m \u001b[0mlist\u001b[0m\u001b[0;34m(\u001b[0m\u001b[0mkey\u001b[0m\u001b[0;34m)\u001b[0m\u001b[0;34m\u001b[0m\u001b[0;34m\u001b[0m\u001b[0m\n\u001b[0;32m-> 2912\u001b[0;31m             \u001b[0mindexer\u001b[0m \u001b[0;34m=\u001b[0m \u001b[0mself\u001b[0m\u001b[0;34m.\u001b[0m\u001b[0mloc\u001b[0m\u001b[0;34m.\u001b[0m\u001b[0m_get_listlike_indexer\u001b[0m\u001b[0;34m(\u001b[0m\u001b[0mkey\u001b[0m\u001b[0;34m,\u001b[0m \u001b[0maxis\u001b[0m\u001b[0;34m=\u001b[0m\u001b[0;36m1\u001b[0m\u001b[0;34m,\u001b[0m \u001b[0mraise_missing\u001b[0m\u001b[0;34m=\u001b[0m\u001b[0;32mTrue\u001b[0m\u001b[0;34m)\u001b[0m\u001b[0;34m[\u001b[0m\u001b[0;36m1\u001b[0m\u001b[0;34m]\u001b[0m\u001b[0;34m\u001b[0m\u001b[0;34m\u001b[0m\u001b[0m\n\u001b[0m\u001b[1;32m   2913\u001b[0m \u001b[0;34m\u001b[0m\u001b[0m\n\u001b[1;32m   2914\u001b[0m         \u001b[0;31m# take() does not accept boolean indexers\u001b[0m\u001b[0;34m\u001b[0m\u001b[0;34m\u001b[0m\u001b[0;34m\u001b[0m\u001b[0m\n",
            "\u001b[0;32m/usr/local/lib/python3.7/dist-packages/pandas/core/indexing.py\u001b[0m in \u001b[0;36m_get_listlike_indexer\u001b[0;34m(self, key, axis, raise_missing)\u001b[0m\n\u001b[1;32m   1252\u001b[0m             \u001b[0mkeyarr\u001b[0m\u001b[0;34m,\u001b[0m \u001b[0mindexer\u001b[0m\u001b[0;34m,\u001b[0m \u001b[0mnew_indexer\u001b[0m \u001b[0;34m=\u001b[0m \u001b[0max\u001b[0m\u001b[0;34m.\u001b[0m\u001b[0m_reindex_non_unique\u001b[0m\u001b[0;34m(\u001b[0m\u001b[0mkeyarr\u001b[0m\u001b[0;34m)\u001b[0m\u001b[0;34m\u001b[0m\u001b[0;34m\u001b[0m\u001b[0m\n\u001b[1;32m   1253\u001b[0m \u001b[0;34m\u001b[0m\u001b[0m\n\u001b[0;32m-> 1254\u001b[0;31m         \u001b[0mself\u001b[0m\u001b[0;34m.\u001b[0m\u001b[0m_validate_read_indexer\u001b[0m\u001b[0;34m(\u001b[0m\u001b[0mkeyarr\u001b[0m\u001b[0;34m,\u001b[0m \u001b[0mindexer\u001b[0m\u001b[0;34m,\u001b[0m \u001b[0maxis\u001b[0m\u001b[0;34m,\u001b[0m \u001b[0mraise_missing\u001b[0m\u001b[0;34m=\u001b[0m\u001b[0mraise_missing\u001b[0m\u001b[0;34m)\u001b[0m\u001b[0;34m\u001b[0m\u001b[0;34m\u001b[0m\u001b[0m\n\u001b[0m\u001b[1;32m   1255\u001b[0m         \u001b[0;32mreturn\u001b[0m \u001b[0mkeyarr\u001b[0m\u001b[0;34m,\u001b[0m \u001b[0mindexer\u001b[0m\u001b[0;34m\u001b[0m\u001b[0;34m\u001b[0m\u001b[0m\n\u001b[1;32m   1256\u001b[0m \u001b[0;34m\u001b[0m\u001b[0m\n",
            "\u001b[0;32m/usr/local/lib/python3.7/dist-packages/pandas/core/indexing.py\u001b[0m in \u001b[0;36m_validate_read_indexer\u001b[0;34m(self, key, indexer, axis, raise_missing)\u001b[0m\n\u001b[1;32m   1296\u001b[0m             \u001b[0;32mif\u001b[0m \u001b[0mmissing\u001b[0m \u001b[0;34m==\u001b[0m \u001b[0mlen\u001b[0m\u001b[0;34m(\u001b[0m\u001b[0mindexer\u001b[0m\u001b[0;34m)\u001b[0m\u001b[0;34m:\u001b[0m\u001b[0;34m\u001b[0m\u001b[0;34m\u001b[0m\u001b[0m\n\u001b[1;32m   1297\u001b[0m                 \u001b[0maxis_name\u001b[0m \u001b[0;34m=\u001b[0m \u001b[0mself\u001b[0m\u001b[0;34m.\u001b[0m\u001b[0mobj\u001b[0m\u001b[0;34m.\u001b[0m\u001b[0m_get_axis_name\u001b[0m\u001b[0;34m(\u001b[0m\u001b[0maxis\u001b[0m\u001b[0;34m)\u001b[0m\u001b[0;34m\u001b[0m\u001b[0;34m\u001b[0m\u001b[0m\n\u001b[0;32m-> 1298\u001b[0;31m                 \u001b[0;32mraise\u001b[0m \u001b[0mKeyError\u001b[0m\u001b[0;34m(\u001b[0m\u001b[0;34mf\"None of [{key}] are in the [{axis_name}]\"\u001b[0m\u001b[0;34m)\u001b[0m\u001b[0;34m\u001b[0m\u001b[0;34m\u001b[0m\u001b[0m\n\u001b[0m\u001b[1;32m   1299\u001b[0m \u001b[0;34m\u001b[0m\u001b[0m\n\u001b[1;32m   1300\u001b[0m             \u001b[0;31m# We (temporarily) allow for some missing keys with .loc, except in\u001b[0m\u001b[0;34m\u001b[0m\u001b[0;34m\u001b[0m\u001b[0;34m\u001b[0m\u001b[0m\n",
            "\u001b[0;31mKeyError\u001b[0m: \"None of [Index(['1965', '1966', '1967', '1968', '1969', '1970', '1971', '1972', '1973',\\n       '1974', '1975', '1976', '1977', '1978', '1979', '1980', '1981', '1982',\\n       '1983', '1984', '1985', '1986', '1987', '1988', '1989', '1990', '1991',\\n       '1992', '1993', '1994', '1995', '1996', '1997', '1998', '1999', '2000',\\n       '2001', '2002', '2003', '2004', '2005', '2006', '2007', '2008', '2009',\\n       '2010', '2011', '2012', '2013', '2014', '2015', '2016', '2017', '2018',\\n       '2019', '2020', '2021'],\\n      dtype='object')] are in the [columns]\""
          ]
        },
        {
          "output_type": "display_data",
          "data": {
            "image/png": "[encoded data removed]",
            "text/plain": [
              "<Figure size 864x864 with 9 Axes>"
            ]
          },
          "metadata": {
            "needs_background": "light"
          }
        }
      ]
    },
    {
      "cell_type": "markdown",
      "metadata": {
        "id": "YahRtRJXoSw3"
      },
      "source": [
        "**"
      ]
    }
  ]
}